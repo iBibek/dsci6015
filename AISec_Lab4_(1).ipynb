{
  "nbformat": 4,
  "nbformat_minor": 0,
  "metadata": {
    "colab": {
      "name": "AISec_Lab4 (1).ipynb",
      "provenance": [],
      "collapsed_sections": [
        "WIiJpgfT5LTi",
        "1v1SG-iL5w0y",
        "vwM5hPwo9e4g",
        "zdxMuLMw_TaO",
        "BKTxsr0jAXbz"
      ],
      "machine_shape": "hm",
      "include_colab_link": true
    },
    "kernelspec": {
      "name": "python3",
      "display_name": "Python 3"
    },
    "accelerator": "GPU"
  },
  "cells": [
    {
      "cell_type": "markdown",
      "metadata": {
        "id": "view-in-github",
        "colab_type": "text"
      },
      "source": [
        "<a href=\"https://colab.research.google.com/github/iBibek/dsci6015/blob/main/AISec_Lab4_(1).ipynb\" target=\"_parent\"><img src=\"https://colab.research.google.com/assets/colab-badge.svg\" alt=\"Open In Colab\"/></a>"
      ]
    },
    {
      "cell_type": "markdown",
      "metadata": {
        "id": "Zv0y9Xlc2NV4"
      },
      "source": [
        "# **Anomaly Detection in Network Traffic with K-means clustering**\n",
        "We can categorize machine learning algorithms into two main groups: supervised learning and unsupervised learning. With supervised learning algorithms, in order to predict unknown values for new data, we have to know the target value for many previously-seen examples. In contrast, unsupervised learning algorithms explore the data which has no target attribute to find some intrinsic structures in them.\n",
        "\n",
        "Clustering is a technique for finding similar groups in data, called clusters. Clustering is often called an unsupervised learning task as no class values denoting an a priori grouping of the data instances are given.\n",
        "\n",
        "In this notebook, we will use K-means, a very well known clustering algorithm to detect anomaly network connections based on statistics about each of them. For a thorough overview of K-means clustering, from a research perspective, have a look at this wonderful tutorial.\n",
        "\n",
        "# Goals\n",
        "We expect students to:\n",
        "* Learn (or revise) and understand the K-means algorithm\n",
        "* Implement a simple K-means algorithm\n",
        "* Use K-means to detect anomalies network connection data\n",
        "\n",
        "# Steps\n",
        "1. In section 1, we will have an overview about K-means then implement a simple version of it.\n",
        "2. In section 2, we build models with and without categorical features.\n",
        "3. Finally, in the last section, using our models, we will detect unsual connections."
      ]
    },
    {
      "cell_type": "markdown",
      "metadata": {
        "id": "If9-fb0b2gpE"
      },
      "source": [
        "# **1. K-means**\n",
        "# **1.1. Introduction**\n",
        "Clustering is a typical and well-known type of unsupervised learning. Clustering algorithms try to find natural groupings in data. Similar data points (according to some notion of similarity) are considered in the same group. We call these groups **clusters**.\n",
        "\n",
        "K-Means clustering is a simple and widely-used clustering algorithm. Given value of  k , it tries to build  k  clusters from samples in the dataset. Therefore,  k  is an hyperparameter of the model. The right value of  k  is not easy to determine, as it highly depends on the data set and the way that data is featurized.\n",
        "\n",
        "To measue the similarity between any two data points, K-means requires the definition of a distance funtion between data points. What is a distance? It is a value that indicates how close two data points are in their space. In particular, when data points lie in a  d -dimensional space, the Euclidean distance is a good choice of a distance function, and is supported by MLLIB.\n",
        "\n",
        "In K-means, a cluster is a group of points, with a representative entity called a centroid. A centroid is also a point in the data space: the center of all the points that make up the cluster. It's defined to be the arithmetic mean of the points. In general, when working with K-means, each data sample is represented in a  d -dimensional numeric vector, for which it is easier to define an appropriate distance function. As a consequence, in some applications, the original data must be transformed into a different representation, to fit the requirements of K-means.\n",
        "\n",
        "# **1.2. How does it work ?**\n",
        "Given  k , the K-means algorithm works as follows:\n",
        "\n",
        "1. Randomly choose  k  data points (seeds) to be the initial centroids\n",
        "2. Assign each data point to the closest centroid\n",
        "3. Re-compute (update) the centroids using the current cluster memberships\n",
        "4. If a convergence criterion is not met, go to step 2\n",
        "\n",
        "We can also terminate the algorithm when it reaches an iteration budget, which yields an approximate result. From the pseudo-code of the algorithm, we can see that K-means clustering results can be sensitive to the order in which data samples in the data set are explored. A sensible practice would be to run the analysis several times, randomizing objects order; then, average the cluster centres of those runs and input the centres as initial ones for one final run of the analysis.\n",
        "\n",
        "# **1.3. Illustrative example**\n",
        "One of the best ways to study an algorithm is trying implement it. In this section, we will go step by step to implement a simple K-means algorithm."
      ]
    },
    {
      "cell_type": "markdown",
      "metadata": {
        "id": "TG6LBq9e3TFV"
      },
      "source": [
        "Use the below function to calculate an euclidean distance between any two points in  d -dimensional data space."
      ]
    },
    {
      "cell_type": "code",
      "metadata": {
        "id": "MLJdVnXd1r1f"
      },
      "source": [
        "import numpy as np\n",
        "\n",
        "# calculate distance between two d-dimensional points\n",
        "def euclidean_distance(p1, p2):\n",
        "    return np.sqrt(np.sum([(c1 - c2)**2 for c1, c2 in zip(p1, p2)]))\n",
        "\n",
        "# test our function\n",
        "assert (round(euclidean_distance([1,2,3] , [10,18,12]), 2) == 20.45), \"Function's wrong\""
      ],
      "execution_count": 1,
      "outputs": []
    },
    {
      "cell_type": "markdown",
      "metadata": {
        "id": "ZSEXOoo-3xKg"
      },
      "source": [
        "Given a data point and the current set of centroids, use the function below to find the index of the closest centroid for that data point."
      ]
    },
    {
      "cell_type": "code",
      "metadata": {
        "id": "WzB2Z3c2346m"
      },
      "source": [
        "def find_closest_centroid(datapoint, centroids):\n",
        "    # find the index of the closest centroid of the given data point.\n",
        "    return min(enumerate(centroids), key=lambda x: euclidean_distance(datapoint, x[1]))[0]\n",
        "\n",
        "assert(find_closest_centroid( [1,1,1], [ [2,1,2], [1,2,1], [3,1,2] ] ) == 1), \"Function's wrong\""
      ],
      "execution_count": 2,
      "outputs": []
    },
    {
      "cell_type": "markdown",
      "metadata": {
        "id": "4H3VcqRK38NV"
      },
      "source": [
        "Use the function below to randomize  k  initial centroids."
      ]
    },
    {
      "cell_type": "code",
      "metadata": {
        "id": "2x8l-g5u3-7u"
      },
      "source": [
        "np.random.seed(22324)\n",
        "\n",
        "# randomize initial centroids\n",
        "def randomize_centroids(data, k):\n",
        "    random_indices = np.arange(len(data))\n",
        "    np.random.shuffle(random_indices)\n",
        "    random_indices = random_indices[:k]\n",
        "    centroids = [data[i] for i in range(len(data)) if i in random_indices]\n",
        "    return centroids\n",
        "\n",
        "assert(len(\n",
        "    randomize_centroids(\n",
        "        np.array([ \n",
        "            np.array([2,1,2]), \n",
        "            np.array([1,2,1]), \n",
        "            np.array([3,1,2]) \n",
        "             ]), \n",
        "        2)) == 2), \"Wrong function\""
      ],
      "execution_count": 3,
      "outputs": []
    },
    {
      "cell_type": "markdown",
      "metadata": {
        "id": "_2p1td0t4BwO"
      },
      "source": [
        "Use function check_converge to check the stop creteria of the algorithm."
      ]
    },
    {
      "cell_type": "code",
      "metadata": {
        "id": "BwgM2DOn4FwP"
      },
      "source": [
        "MAX_ITERATIONS = 10\n",
        "\n",
        "# return True if clusters have converged , otherwise, return False  \n",
        "def check_converge(centroids, old_centroids, num_iterations, threshold=0):\n",
        "    # if it reaches an iteration budget\n",
        "    if num_iterations > MAX_ITERATIONS:\n",
        "        return True\n",
        "    # check if the centroids don't move (or very slightly)\n",
        "    distances = np.array([euclidean_distance(c, o) for c, o in zip(centroids, old_centroids)])\n",
        "    if (distances <= threshold).all():\n",
        "        return True\n",
        "    return False"
      ],
      "execution_count": 4,
      "outputs": []
    },
    {
      "cell_type": "markdown",
      "metadata": {
        "id": "UrKANz_24Jpx"
      },
      "source": [
        "Use function update_centroid to update the new positions for the current centroids based on the position of their members."
      ]
    },
    {
      "cell_type": "code",
      "metadata": {
        "id": "dlUz6nZc4OUc"
      },
      "source": [
        "# centroids: a list of centers\n",
        "# clusters: a list of k elements. Each element i-th is a list of data points that are assigned to center i-th\n",
        "def update_centroids(centroids, clusters):\n",
        "    assert(len(centroids) == len(clusters))\n",
        "    clusters = np.array(clusters)\n",
        "    for i, cluster in enumerate(clusters):\n",
        "        centroids[i] = sum(cluster)/len(cluster)\n",
        "    return centroids"
      ],
      "execution_count": 5,
      "outputs": []
    },
    {
      "cell_type": "markdown",
      "metadata": {
        "id": "_MYCN5Oq4RBX"
      },
      "source": [
        "Use the K-means algorithm scheleton below, with the functions you wrote above."
      ]
    },
    {
      "cell_type": "code",
      "metadata": {
        "id": "orJc7WcP4ULj"
      },
      "source": [
        "# data : set of data points\n",
        "# k : number of clusters\n",
        "# centroids: initial list of centroids\n",
        "def kmeans(data, k=2, centroids=None):\n",
        "    \n",
        "    data = np.array(data)\n",
        "    # randomize the centroids if they are not given\n",
        "    if not centroids:\n",
        "        centroids = randomize_centroids(data, k)\n",
        "\n",
        "    old_centroids = centroids[:]\n",
        "\n",
        "    iterations = 0\n",
        "    while True:\n",
        "        iterations += 1\n",
        "\n",
        "        # init empty clusters\n",
        "        clusters = [[] for i in range(k)]\n",
        "\n",
        "        # assign each data point to the closest centroid\n",
        "        for datapoint in data:\n",
        "            # find the closest center of each data point\n",
        "            centroid_idx = find_closest_centroid(datapoint, centroids)\n",
        "            \n",
        "            # assign datapoint to the closest cluster\n",
        "            clusters[centroid_idx].append(datapoint)\n",
        "        \n",
        "        # keep the current position of centroids before changing them\n",
        "        old_centroids = centroids[:]\n",
        "        \n",
        "        # update centroids\n",
        "        centroids = update_centroids(centroids, clusters)\n",
        "        \n",
        "        # if the stop criteria are met, stop the algorithm\n",
        "        if check_converge(centroids, old_centroids, iterations):\n",
        "            break\n",
        "    \n",
        "    return centroids"
      ],
      "execution_count": 6,
      "outputs": []
    },
    {
      "cell_type": "markdown",
      "metadata": {
        "id": "8L1fC-f5BcH6"
      },
      "source": [
        "Next, we will test our algorithm on [Fisher's Iris dataset](http://en.wikipedia.org/wiki/Iris_flower_data_set), and plot the resulting clusters in 3D."
      ]
    },
    {
      "cell_type": "code",
      "metadata": {
        "id": "ch88HSH-Bmiu",
        "colab": {
          "base_uri": "https://localhost:8080/",
          "height": 661
        },
        "outputId": "b32f2167-27b0-4103-f2ea-564fb1e89448"
      },
      "source": [
        "# the sourcecode in this cell is inspired from \n",
        "# https://gist.github.com/bbarrilleaux/9841297\n",
        "\n",
        "%matplotlib inline\n",
        "\n",
        "from sklearn import datasets, cluster\n",
        "import numpy as np\n",
        "import matplotlib.pyplot as plt\n",
        "from mpl_toolkits.mplot3d import Axes3D\n",
        "\n",
        "\n",
        "# load data\n",
        "iris = datasets.load_iris()\n",
        "X_iris = iris.data\n",
        "y_iris = iris.target\n",
        "# do the clustering\n",
        "centers = kmeans(X_iris, k=3)\n",
        "labels = [find_closest_centroid(p, centers) for p in X_iris]\n",
        "\n",
        "#plot the clusters in color\n",
        "fig = plt.figure(1, figsize=(8, 8))\n",
        "plt.clf()\n",
        "ax = Axes3D(fig, rect=[0, 0, 1, 1], elev=8, azim=200)\n",
        "plt.cla()\n",
        "ax.scatter(X_iris[:, 3], X_iris[:, 0], X_iris[:, 2], c=labels)\n",
        "\n",
        "# moon\n",
        "# np.random.seed(0)\n",
        "# X, y = datasets.make_moons(2000, noise=0.2)\n",
        "\n",
        "# blob\n",
        "# np.random.seed(0)\n",
        "# X, y = datasets.make_blobs(n_samples=2000, centers=3, n_features=20, random_state=0)\n",
        "\n",
        "# centers = kmeans(X, k=3)\n",
        "# labels = [find_closest_centroid(p, centers) for p in X]\n",
        "\n",
        "# fig = plt.figure(1, figsize=(8, 8))\n",
        "# plt.clf()\n",
        "# plt.scatter(X[:,0], X[:,1], s=40, c=labels, cmap=plt.cm.Spectral)\n",
        "\n",
        "ax.w_xaxis.set_ticklabels([])\n",
        "ax.w_yaxis.set_ticklabels([])\n",
        "ax.w_zaxis.set_ticklabels([])\n",
        "ax.set_xlabel('Petal width')\n",
        "ax.set_ylabel('Sepal length')\n",
        "ax.set_zlabel('Petal length')\n",
        "\n",
        "plt.show()\n",
        "\n",
        "# Here we use sci-kit learn implementation of K-means\n",
        "# centers =cluster.KMeans(n_clusters=3)\n",
        "# centers.fit(X_iris) \n",
        "# labels = centers2.labels_"
      ],
      "execution_count": 7,
      "outputs": [
        {
          "output_type": "stream",
          "name": "stderr",
          "text": [
            "/usr/local/lib/python3.7/dist-packages/ipykernel_launcher.py:5: VisibleDeprecationWarning: Creating an ndarray from ragged nested sequences (which is a list-or-tuple of lists-or-tuples-or ndarrays with different lengths or shapes) is deprecated. If you meant to do this, you must specify 'dtype=object' when creating the ndarray\n",
            "  \"\"\"\n"
          ]
        },
        {
          "output_type": "display_data",
          "data": {
            "image/png": "[encoded data removed]",
            "text/plain": [
              "<Figure size 576x576 with 1 Axes>"
            ]
          },
          "metadata": {
            "needs_background": "light"
          }
        }
      ]
    },
    {
      "cell_type": "markdown",
      "metadata": {
        "id": "WIiJpgfT5LTi"
      },
      "source": [
        "# **2. Usecase: Network Intrusion**\n",
        "Some attacks attempt to flood a computer with network traffic. In some other cases, attacks attempt to exploit flaws in networking software in order to gain unauthorized access to a computer. Detecting an exploit in an incredibly large haystack of network requests is not easy.\n",
        "\n",
        "Some exploit behaviors follow known patterns such as scanning every port in a short of time, sending a burst of request to a port... However, the biggest threat may be the one that has never been detected and classified yet. Part of detecting potential network intrusions is detecting anomalies. These are connections that aren't known to be attacks, but, do not resemble connections that have been observed in the past.\n",
        "\n",
        "In this notebook, K-means is used to detect anomalous network connections based on statistics about each of them.\n",
        "\n",
        "# **2.1. Data**\n",
        "The data comes from [KDD Cup 1999](http://kdd.ics.uci.edu/databases/kddcup99/kddcup99.html). The dataset is about 708MB and contains about 4.9M connections. For each connection, the data set contains information like the number of bytes sent, login attempts, TCP errors, and so on. Each connection is one line of CSV-formatted data, containing 38 features: back, buffer_overflow, ftp_write, guess_passwd, imap, ipsweep, land, loadmodule, multihop, neptune, nmap, normal, perl, phf, pod, portsweep, rootkit, satan, smurf, spy, teardrop, warezclient, warezmaster. For more details about each features, please follow this [link](http://kdd.ics.uci.edu/databases/kddcup99/kddcup99.html).\n",
        "\n",
        "Many features take on the value 0 or 1, indicating the presence or absence of a behavior such as su_attempted in the 15th column. Some features are counts, like num_file_creations in the 17th columns. Some others are the number of sent and received bytes."
      ]
    },
    {
      "cell_type": "markdown",
      "metadata": {
        "id": "8yS28LE75fEB"
      },
      "source": [
        "# **2.2. Clustering without using categorical features**\n",
        "First, we need to import some packages that are used in this notebook."
      ]
    },
    {
      "cell_type": "code",
      "metadata": {
        "id": "sCdvvLu_UfoM"
      },
      "source": [
        "!apt-get install openjdk-8-jdk-headless -qq > /dev/null\n",
        "\n"
      ],
      "execution_count": 8,
      "outputs": []
    },
    {
      "cell_type": "code",
      "metadata": {
        "colab": {
          "base_uri": "https://localhost:8080/"
        },
        "id": "LGzCFvl8u7QM",
        "outputId": "68efabb0-e63a-4c5d-d3d1-4f3d2efdf84e"
      },
      "source": [
        "from google.colab import drive\n",
        "drive.mount('/content/drive')"
      ],
      "execution_count": 9,
      "outputs": [
        {
          "output_type": "stream",
          "name": "stdout",
          "text": [
            "Mounted at /content/drive\n"
          ]
        }
      ]
    },
    {
      "cell_type": "code",
      "metadata": {
        "id": "bjC-bxjivXN2"
      },
      "source": [
        "# !wget -q https://downloads.apache.org/spark/spark-2.4.5/spark-2.4.5-bin-hadoop2.7.tgz\n",
        "!wget -q https://archive.apache.org/dist/spark/spark-2.4.5/spark-2.4.5-bin-hadoop2.7.tgz \n"
      ],
      "execution_count": 10,
      "outputs": []
    },
    {
      "cell_type": "code",
      "metadata": {
        "id": "KGT7S-5DvYAZ"
      },
      "source": [
        "!tar xf spark-2.4.5-bin-hadoop2.7.tgz\n"
      ],
      "execution_count": 11,
      "outputs": []
    },
    {
      "cell_type": "code",
      "metadata": {
        "id": "uaG7j0nQvZZL"
      },
      "source": [
        "!pip install -q findspark\n"
      ],
      "execution_count": 12,
      "outputs": []
    },
    {
      "cell_type": "code",
      "metadata": {
        "id": "i2GeD7vHvcd1"
      },
      "source": [
        "import os\n",
        "os.environ[\"JAVA_HOME\"] = \"/usr/lib/jvm/java-8-openjdk-amd64\"\n",
        "os.environ[\"SPARK_HOME\"] = \"/content/spark-2.4.5-bin-hadoop2.7\"\n",
        "\n",
        "import findspark\n",
        "findspark.init()\n",
        "from pyspark.sql import SparkSession\n"
      ],
      "execution_count": 13,
      "outputs": []
    },
    {
      "cell_type": "code",
      "metadata": {
        "id": "WDWGd_xJvd32"
      },
      "source": [
        "import os\n",
        "import sys\n",
        "import re\n",
        "import time\n",
        "from pyspark import SparkContext\n",
        "\n",
        "from pyspark.sql import SQLContext\n",
        "from pyspark.sql.types import *\n",
        "from pyspark.sql import Row\n",
        "# from pyspark.sql.functions import *\n",
        "%matplotlib inline\n",
        "import matplotlib.pyplot as plt\n",
        "import pandas as pd\n",
        "import numpy as np\n",
        "import pyspark.sql.functions as func\n",
        "import matplotlib.patches as mpatches\n",
        "from operator import add\n",
        "from pyspark.mllib.clustering import KMeans, KMeansModel\n",
        "from operator import add\n",
        "from pyspark.mllib.tree import DecisionTree, DecisionTreeModel\n",
        "from pyspark.mllib.util import MLUtils\n",
        "from pyspark.mllib.regression import LabeledPoint\n",
        "import itertools\n",
        "\n",
        "\n",
        "\n",
        "\n"
      ],
      "execution_count": 14,
      "outputs": []
    },
    {
      "cell_type": "code",
      "metadata": {
        "id": "n6EURi_4WIze"
      },
      "source": [
        "#fixing the issue of sparkcontext, needed to add configureation of  appname and master\n",
        "from pyspark import SparkContext, SparkConf\n",
        "conf = SparkConf().setAppName(\"lab4\").setMaster(\"local[*]\")\n",
        "sc = SparkContext(conf=conf)"
      ],
      "execution_count": 15,
      "outputs": []
    },
    {
      "cell_type": "code",
      "metadata": {
        "id": "wUK2lNTtvlHC",
        "colab": {
          "base_uri": "https://localhost:8080/"
        },
        "outputId": "d5e1f68a-7d6d-428c-aed1-9cea836bb639"
      },
      "source": [
        "input_path = \"/content/kddcup.data.corrected\"\n",
        "raw_data = sc.textFile(input_path, 12)\n",
        "raw_data"
      ],
      "execution_count": 33,
      "outputs": [
        {
          "output_type": "execute_result",
          "data": {
            "text/plain": [
              "/content/kddcup.data.corrected MapPartitionsRDD[243] at textFile at NativeMethodAccessorImpl.java:0"
            ]
          },
          "metadata": {},
          "execution_count": 33
        }
      ]
    },
    {
      "cell_type": "markdown",
      "metadata": {
        "id": "1v1SG-iL5w0y"
      },
      "source": [
        "\n",
        "# **2.2.1. Loading data**\n",
        "There are two types of features: numerical features and categorical features. Currently, to get familiar with the data and the problem, we only use numerical features. In our data, we also have pre-defined groups for each connection, which we can use later as our \"ground truth\" for verifying our results.\n",
        "\n",
        "**Note 1:** we don't use the labels in the training phase !!!\n",
        "\n",
        "**Note 2:** in general, since clustering is un-supervised, you don't have access to ground truth. For this reason, several metrics to judge the quality of clustering have been devised. For a short overview of such metrics, follow this [link](https://en.wikipedia.org/wiki/Cluster_analysis#Internal_evaluation). Note that computing such metrics, that is trying to assess the quality of your clustering results, is as computationally intensive as computing the clustering itself!"
      ]
    },
    {
      "cell_type": "markdown",
      "metadata": {
        "id": "FS3iz8If6GJ0"
      },
      "source": [
        "# **Question 1**\n",
        "Write function parseLine to construct a tuple of (label, vector) for each connection, extract the data that contains only the data points (without label), then print the number of connections.\n",
        "\n",
        "Where,\n",
        "\n",
        "* label is the pre-defined label of each connection\n",
        "* vector is a numpy array that contains values of all features, but the label and the categorial features at index 1,2,3 of each connection. Each vector is a data point."
      ]
    },
    {
      "cell_type": "code",
      "metadata": {
        "id": "knYPoqA76QD6",
        "colab": {
          "base_uri": "https://localhost:8080/"
        },
        "outputId": "3d962a29-2a83-425b-b97d-5a2f38b08ac0"
      },
      "source": [
        "def parseLine(line):\n",
        "    cols = line.split(\",\")\n",
        "    # label is the last column\n",
        "    # vector is every column, except the label\n",
        "    l,v= cols[-1],  cols[:-1]  \n",
        "    # excluding the features buffer_overflow,ftp_write,guess_passwd, \n",
        "    v = [x for i, x in enumerate(v) if i not in [1, 2, 3]]\n",
        "    # convert each value from string to float\n",
        "    v = np.array(v, dtype=np.float)\n",
        "    # return the tuple of label and vector\n",
        "    return (l, v)\n",
        "\n",
        "allData = raw_data.map(parseLine).cache()\n",
        "\n",
        "# we only need the data, not the label\n",
        "data = allData.map(lambda x : x[1]).cache()\n",
        "\n",
        "# number of connections\n",
        "n = data.count()\n",
        "print(\"Total connections:\", n)\n",
        "#Total features: 41 , and we are removing 3 categorial features \n",
        "print(\"Details per connection:\", len(data.first()))"
      ],
      "execution_count": 101,
      "outputs": [
        {
          "output_type": "stream",
          "name": "stdout",
          "text": [
            "Total connections: 4898431\n",
            "Details per connection: 38\n"
          ]
        }
      ]
    },
    {
      "cell_type": "markdown",
      "metadata": {
        "id": "6ZDpco1v6UVy"
      },
      "source": [
        "# **Question 2**\n",
        "Using K-means algorithm of MLLIB, cluster the connections into two groups then plot the result. Why two groups? In this case, we are just warming up, we're testing things around, so \"two groups\" has no particular meaning.\n",
        "\n",
        "You can use the following parameters:\n",
        "\n",
        "* maxIterations=10\n",
        "* runs=10\n",
        "* initializationMode=\"random\"\n",
        "Discuss the result from your figure."
      ]
    },
    {
      "cell_type": "code",
      "metadata": {
        "colab": {
          "base_uri": "https://localhost:8080/"
        },
        "id": "0YabEhXjYgjf",
        "outputId": "9a0094b5-dd7a-4829-bf4b-3b2e96dfa2d8"
      },
      "source": [
        "clusters = KMeans.train(data, 2, maxIterations=10, runs=10, initializationMode=\"random\")\n"
      ],
      "execution_count": 35,
      "outputs": [
        {
          "output_type": "stream",
          "name": "stderr",
          "text": [
            "/content/spark-2.4.5-bin-hadoop2.7/python/pyspark/mllib/clustering.py:347: UserWarning: The param `runs` has no effect since Spark 2.0.0.\n",
            "  warnings.warn(\"The param `runs` has no effect since Spark 2.0.0.\")\n"
          ]
        }
      ]
    },
    {
      "cell_type": "markdown",
      "metadata": {
        "id": "TLvdPHfJ8e8y"
      },
      "source": [
        "One of the simplest method to evaluate our result is calculate the Within Set Sum of Squared Errors (WSSSE), or simply, 'Sum of Squared Errors'. An error of a data point is defined as it's distance to the closest cluster center. \n",
        "We will now use a version of euclidean_distance that assumes the arguments to be numpy arrays, which is really faster, it will come to be useful because this function will be use several million times."
      ]
    },
    {
      "cell_type": "code",
      "metadata": {
        "id": "ymbwIzGN8q-D"
      },
      "source": [
        "def euclidean_distance(a, b):\n",
        "    c = a - b\n",
        "    return np.sqrt(c.T.dot(c))"
      ],
      "execution_count": 36,
      "outputs": []
    },
    {
      "cell_type": "code",
      "metadata": {
        "id": "llV2WcwZ8r1C",
        "colab": {
          "base_uri": "https://localhost:8080/"
        },
        "outputId": "6297729c-7691-4ded-e0b3-fdc9ee89c9db"
      },
      "source": [
        "from operator import add\n",
        "t1 = time.time()\n",
        "# Evaluate clustering by computing Within Set Sum of Squared Errors\n",
        "def error(clusters, point):\n",
        "    closest_center = clusters.centers[clusters.predict(point)]\n",
        "    return euclidean_distance(closest_center, point)**2\n",
        "\n",
        "WSSSE = data.map(lambda point: error(clusters, point)).reduce(add)\n",
        "print(\"Within Set Sum of Squared Error = \" + str(WSSSE))\n",
        "print(time.time() - t1) # By using high ram in google colab"
      ],
      "execution_count": 37,
      "outputs": [
        {
          "output_type": "stream",
          "name": "stdout",
          "text": [
            "Within Set Sum of Squared Error = 6.379392046833959e+18\n",
            "110.58252286911011\n"
          ]
        }
      ]
    },
    {
      "cell_type": "markdown",
      "metadata": {
        "id": "lmlN2FMK83cx"
      },
      "source": [
        "# **Question 3**\n",
        "This is a good opportunity to use the given labels to get an intuitive sense of what went into these two clusters, by counting the labels within each cluster. Use the following code that uses the model to assign each data point to a cluster, and counts occurrences of cluster and label pairs. What do you think about the result ?"
      ]
    },
    {
      "cell_type": "code",
      "metadata": {
        "colab": {
          "base_uri": "https://localhost:8080/"
        },
        "id": "2K_iNGtbY6M3",
        "outputId": "a5af83f2-c40b-43ef-afd8-c83374415fd7"
      },
      "source": [
        "print(\"Total labels are: \", allData.map(lambda x: x[0]).distinct().count())"
      ],
      "execution_count": 38,
      "outputs": [
        {
          "output_type": "stream",
          "name": "stdout",
          "text": [
            "Total labels are:  23\n"
          ]
        }
      ]
    },
    {
      "cell_type": "code",
      "metadata": {
        "id": "q5vVFp0789UI",
        "colab": {
          "base_uri": "https://localhost:8080/"
        },
        "outputId": "012ee04e-5587-4437-cabf-e0b21e8e89ac"
      },
      "source": [
        "clusterLabelCount = allData.map(lambda row: ((clusters.predict(row[1]), row[0]), 1)).reduceByKey(add)\n",
        "\n",
        "for item in clusterLabelCount.collect():\n",
        "    print(item)"
      ],
      "execution_count": 39,
      "outputs": [
        {
          "output_type": "stream",
          "name": "stdout",
          "text": [
            "((0, 'normal.'), 972781)\n",
            "((0, 'neptune.'), 1072017)\n",
            "((0, 'back.'), 2203)\n",
            "((0, 'portsweep.'), 10413)\n",
            "((0, 'warezclient.'), 1020)\n",
            "((0, 'spy.'), 2)\n",
            "((0, 'guess_passwd.'), 53)\n",
            "((0, 'warezmaster.'), 20)\n",
            "((0, 'satan.'), 15892)\n",
            "((0, 'nmap.'), 2316)\n",
            "((0, 'land.'), 21)\n",
            "((0, 'multihop.'), 7)\n",
            "((0, 'ipsweep.'), 12481)\n",
            "((0, 'ftp_write.'), 8)\n",
            "((0, 'buffer_overflow.'), 30)\n",
            "((0, 'perl.'), 3)\n",
            "((0, 'pod.'), 264)\n",
            "((0, 'rootkit.'), 10)\n",
            "((0, 'phf.'), 4)\n",
            "((0, 'teardrop.'), 979)\n",
            "((0, 'smurf.'), 2807886)\n",
            "((0, 'imap.'), 12)\n",
            "((0, 'loadmodule.'), 9)\n"
          ]
        }
      ]
    },
    {
      "cell_type": "markdown",
      "metadata": {
        "id": "5YDrkZ_f9AT0"
      },
      "source": [
        "Your Comment: We can observe the imbalanced clusters with outliers. The classes such as spy, perl, phf have less that 10 numbers of elements in them wheres Normal and Neptune got most of the elements, few of the outliers might be hiding inside these large clusters.\n"
      ]
    },
    {
      "cell_type": "code",
      "metadata": {
        "id": "NvK8f9cvYwOX"
      },
      "source": [
        ""
      ],
      "execution_count": null,
      "outputs": []
    },
    {
      "cell_type": "markdown",
      "metadata": {
        "id": "rfPEd5Lm9DWe"
      },
      "source": [
        "# **2.2.4. Choosing K**\n",
        "How many clusters are appropriate for a dataset? In particular, for our own dataset, it's clear that there are 23 distinct behavior patterns in the data, so it seems that k could be at least 23, or likely, even more. In other cases, we even don't have any information about the number of patterns at all (remember, generally your data is not labelled!). Our task now is finding a good value of  k . For doing that, we have to build and evaluate models with different values of  k . A clustering could be considered good if each data point were near to its closest centroid. One of the ways to evaluate a model is calculating the Mean of Squared Errors of all data points."
      ]
    },
    {
      "cell_type": "markdown",
      "metadata": {
        "id": "alINfoNB9Rc7"
      },
      "source": [
        "# **Question 4**\n",
        "Use the function below to calculate the MSE of each model that is corresponding to each value of  k . Plot the results. From the obtained result, what is the best value for  k  ? Why ?"
      ]
    },
    {
      "cell_type": "code",
      "metadata": {
        "colab": {
          "base_uri": "https://localhost:8080/"
        },
        "id": "fkrpyUgUw6N3",
        "outputId": "e4eb950b-c665-4c50-91db-a88b758e70d6"
      },
      "source": [
        "#Only taking fraction of data for our lab experiment\n",
        "allData=allData.sample(withReplacement=False,fraction=0.05)\n",
        "data = allData.map(lambda x : x[1]).cache()\n",
        "allData.count() # ran the cell twice"
      ],
      "execution_count": 88,
      "outputs": [
        {
          "output_type": "execute_result",
          "data": {
            "text/plain": [
              "12201"
            ]
          },
          "metadata": {},
          "execution_count": 88
        }
      ]
    },
    {
      "cell_type": "code",
      "metadata": {
        "id": "p5syyYMf9Vyj",
        "colab": {
          "base_uri": "https://localhost:8080/",
          "height": 480
        },
        "outputId": "0f877161-43c3-4444-a998-15bbcd680fb9"
      },
      "source": [
        "\n",
        "# k: the number of clusters\n",
        "k_range = range(5, 126, 20)\n",
        "\n",
        "def clusteringScore(data, k):\n",
        "    clusters = KMeans.train(data, k, maxIterations=10, runs=10, initializationMode=\"random\")\n",
        "    # calculate mean square error\n",
        "    WSSSE = data.map(lambda point: error(clusters, point)).reduce(add)\n",
        "    #WSSSE = clusters.computeCost(data)\n",
        "    return WSSSE\n",
        "\n",
        "scores = [clusteringScore(data, k) for k in k_range]\n",
        "for score in scores:\n",
        "    print(score)\n",
        "    \n",
        "# plot results\n",
        "plt.scatter(k_range, scores)\n",
        "plt.xlabel('k')\n",
        "plt.ylabel('clustering score')\n",
        "#5 25 45 65 85 105 125"
      ],
      "execution_count": 89,
      "outputs": [
        {
          "output_type": "stream",
          "name": "stderr",
          "text": [
            "/content/spark-2.4.5-bin-hadoop2.7/python/pyspark/mllib/clustering.py:347: UserWarning: The param `runs` has no effect since Spark 2.0.0.\n",
            "  warnings.warn(\"The param `runs` has no effect since Spark 2.0.0.\")\n"
          ]
        },
        {
          "output_type": "stream",
          "name": "stdout",
          "text": [
            "275782966782.2281\n",
            "119827158578.20424\n",
            "117943580574.35385\n",
            "115500255625.22713\n",
            "115223393144.79553\n",
            "116441208319.5208\n",
            "114587094368.87007\n"
          ]
        },
        {
          "output_type": "execute_result",
          "data": {
            "text/plain": [
              "Text(0, 0.5, 'clustering score')"
            ]
          },
          "metadata": {},
          "execution_count": 89
        },
        {
          "output_type": "display_data",
          "data": {
            "image/png": "[encoded data removed]",
            "text/plain": [
              "<Figure size 432x288 with 1 Axes>"
            ]
          },
          "metadata": {
            "needs_background": "light"
          }
        }
      ]
    },
    {
      "cell_type": "markdown",
      "metadata": {
        "id": "J0Imqbdq9cMQ"
      },
      "source": [
        "Your comments : As we can see that for k=5 the cluster score is high, and the score decreases as we keep on increasing the number of k. After k=25 the clustering score is not decreasing in rapid way. The clustering score becomes consistent after k=25, which just means that by incresing number of k we are simply making more small clusters that are closer to each others. \n"
      ]
    },
    {
      "cell_type": "markdown",
      "metadata": {
        "id": "vwM5hPwo9e4g"
      },
      "source": [
        "# **2.2.5 Normalizing features**\n",
        "K-means clustering treats equally all dimensions/directions of the space and therefore tends to produce more or less spherical (rather than elongated) clusters. In this situation, leaving variances uneven is equivalent to putting more weight on variables with smaller variance, so clusters will tend to be separated along variables with greater variance.\n",
        "\n",
        "In our notebook, since Euclidean distance is used, the clusters will be influenced strongly by the magnitudes of the variables, especially by outliers. Normalizing will remove this bias.\n",
        "\n",
        "Each feature can be normalized by converting it to a standard score. This means subtracting the mean of the feature’s values from each value, and dividing by the standard deviation\n",
        "\\begin{align}\n",
        "normalize_i=\\frac{feature_i - \\mu_i}{\\sigma_i}\n",
        "\\end{align}\n",
        "Where,\n",
        "* $normalize_i$  is the normalized value of feature $i$ \n",
        "* $\\mu_i$ is the mean of feature $i$ \n",
        "* $\\sigma_i$ is the standard deviation of feature $i$"
      ]
    },
    {
      "cell_type": "markdown",
      "metadata": {
        "id": "2VhRGrrX-ebI"
      },
      "source": [
        "# **Question 5**\n",
        "Complete the code below to normalize the data. Print the first 5 lines of the new data.\n",
        "\n",
        "HINT: If $\\sigma_i=0$ then ${normalize}_i = {feature}_i−\\mu_i$"
      ]
    },
    {
      "cell_type": "code",
      "metadata": {
        "colab": {
          "base_uri": "https://localhost:8080/"
        },
        "id": "ENGOLqpxnVrk",
        "outputId": "3d4ff838-6400-4c44-c405-d082fef4dddf"
      },
      "source": [
        "def normalizeData(labelsAndData):\n",
        "   \n",
        "    means = allData.map(lambda x:x[1]).mean()\n",
        "    stdevs = np.sqrt(allData.map(lambda x : (x[1]-means)**2).mean())\n",
        "    \n",
        "    stdevs[stdevs==0] = 1\n",
        "    def normalize(point):\n",
        "        return (point[0],(point[1]-means)/stdevs)\n",
        "\n",
        "    return allData.map(lambda x: normalize(x))\n",
        "\n",
        "allDataNorm = normalizeData(allData).cache()\n",
        "normalizedData = allDataNorm.map(lambda x: x[1]).cache()\n",
        "print(normalizedData.take(2))"
      ],
      "execution_count": 90,
      "outputs": [
        {
          "output_type": "stream",
          "name": "stdout",
          "text": [
            "[array([-0.07651753, -0.28108366, -0.00437685,  0.        , -0.02024773,\n",
            "        0.        , -0.03076972,  0.        ,  2.44785152, -0.02457421,\n",
            "        0.        ,  0.        , -0.02474945, -0.01715948, -0.00905357,\n",
            "       -0.02561473,  0.        ,  0.        , -0.03137665, -1.52063427,\n",
            "       -1.15504653, -0.45812283, -0.45794006, -0.24160954, -0.24139436,\n",
            "        0.52940743, -0.24604064, -0.19981865, -3.51646143, -0.80752854,\n",
            "        0.58873575, -0.27671117, -1.12896471,  1.05725167, -0.45857084,\n",
            "       -0.45762614, -0.24572514, -0.2439002 ]), array([-0.07651753, -0.21152038,  4.32891557,  0.        , -0.02024773,\n",
            "        0.        , -0.03076972,  0.        ,  2.44785152, -0.02457421,\n",
            "        0.        ,  0.        , -0.02474945, -0.01715948, -0.00905357,\n",
            "       -0.02561473,  0.        ,  0.        , -0.03137665, -1.586683  ,\n",
            "       -1.212088  , -0.45812283, -0.45794006, -0.24160954, -0.24139436,\n",
            "        0.52940743, -0.24604064, -0.19981865, -3.74123256,  0.61026215,\n",
            "        0.58873575, -0.27671117,  0.80997496,  1.05725167, -0.45857084,\n",
            "       -0.45762614, -0.24572514, -0.2439002 ])]\n"
          ]
        }
      ]
    },
    {
      "cell_type": "markdown",
      "metadata": {
        "id": "pYUvACr4-2hC"
      },
      "source": [
        "# **Question 6**\n",
        "Using the new data, build different models with different values of $k\\in [60,70,80,90,100,110]$ . Evaluate the results by plotting them and choose the best value of $k$."
      ]
    },
    {
      "cell_type": "code",
      "metadata": {
        "id": "-N-i6KiD_E4Y"
      },
      "source": [
        "k_range = [60,70,80,90,100,110]\n",
        "scores = [clusteringScore(normalizedData, k) for k in k_range]\n"
      ],
      "execution_count": null,
      "outputs": []
    },
    {
      "cell_type": "code",
      "metadata": {
        "colab": {
          "base_uri": "https://localhost:8080/",
          "height": 398
        },
        "id": "--jQRkG4zMfx",
        "outputId": "a5c25741-9a96-4d99-bd84-fe9578671242"
      },
      "source": [
        "for score in scores:\n",
        "    print(score)\n",
        "plt.scatter(k_range, scores)\n",
        "plt.xlabel('k')\n",
        "plt.ylabel('clustering score')"
      ],
      "execution_count": 95,
      "outputs": [
        {
          "output_type": "stream",
          "name": "stdout",
          "text": [
            "94399.65410959089\n",
            "86097.86426127428\n",
            "83043.48246761091\n",
            "74417.35547843594\n",
            "62416.19889897654\n",
            "49270.06647089906\n"
          ]
        },
        {
          "output_type": "execute_result",
          "data": {
            "text/plain": [
              "Text(0, 0.5, 'clustering score')"
            ]
          },
          "metadata": {},
          "execution_count": 95
        },
        {
          "output_type": "display_data",
          "data": {
            "image/png": "[encoded data removed]",
            "text/plain": [
              "<Figure size 432x288 with 1 Axes>"
            ]
          },
          "metadata": {
            "needs_background": "light"
          }
        }
      ]
    },
    {
      "cell_type": "markdown",
      "metadata": {
        "id": "7I4zU04i_GcG"
      },
      "source": [
        "We can see that with the greater number of k, the score is decreasing significantly. "
      ]
    },
    {
      "cell_type": "markdown",
      "metadata": {
        "id": "MBOcSlxe_MDY"
      },
      "source": [
        "# **Question 7**\n",
        "Plot the clustering result to see the difference between before and after normalizing features. Discuss about the difference and explain why and if normalization was useful."
      ]
    },
    {
      "cell_type": "code",
      "metadata": {
        "id": "22LKjlJO_QIm",
        "colab": {
          "base_uri": "https://localhost:8080/",
          "height": 307
        },
        "outputId": "7e151abb-55c5-4f6e-cd75-133aca603a26"
      },
      "source": [
        "score_norm=[94399.65410959089,86097.86426127428,83043.48246761091,74417.35547843594,62416.19889897654,49270.06647089906,]\n",
        "score_=[275782966782.2281,\n",
        "119827158578.20424,\n",
        "117943580574.35385,\n",
        "115500255625.22713,\n",
        "115223393144.79553,\n",
        "116441208319.5208,\n",
        "114587094368.87007]\n",
        "k_norm= [60,70,80,90,100,110]\n",
        "k_=[5, 25, 45, 65, 85, 105, 125]\n",
        "plt.xlabel('k')\n",
        "plt.ylabel('clustering score')\n",
        "plt.scatter(k_norm, score_norm)\n",
        "plt.scatter(k_, score_)"
      ],
      "execution_count": 158,
      "outputs": [
        {
          "output_type": "execute_result",
          "data": {
            "text/plain": [
              "<matplotlib.collections.PathCollection at 0x7f1a8724f190>"
            ]
          },
          "metadata": {},
          "execution_count": 158
        },
        {
          "output_type": "display_data",
          "data": {
            "image/png": "[encoded data removed]",
            "text/plain": [
              "<Figure size 432x288 with 1 Axes>"
            ]
          },
          "metadata": {
            "needs_background": "light"
          }
        }
      ]
    },
    {
      "cell_type": "markdown",
      "metadata": {
        "id": "RUBUCUn8_Qa1"
      },
      "source": [
        "We can observe that in the normalized data, the score becomes much better for the same ranges of k"
      ]
    },
    {
      "cell_type": "markdown",
      "metadata": {
        "id": "zdxMuLMw_TaO"
      },
      "source": [
        "# **2.3. Clustering using categorical features**\n",
        "# **2.3.1 Loading data**\n",
        "In the previous section, we ignored the categorical features of our data: this is not a good idea, since these categorical features can be important in providing useful information for clustering. The problem is that K-means (or at least, the one we have developed and the one we use from MLLib) only work with data points in a metric space. Informally, this means that operations such as addition, substraction and computing the mean of data points are trivial and well defined. For a more formal definition of what a metric space is, follow this [link](https://en.wikipedia.org/wiki/Metric_space#Definition).\n",
        "\n",
        "What we will do next is to transform each categorical features into one or more numerical features. This approach is very widespread: imagine for example you wanted to use K-means to cluster text data. Then, the idea is to transform text data in  d -dimensional vectors, and a nice way to do it is to use [word2vec](http://deeplearning4j.org/word2vec). If you're interested, follow this link to a nice blog post on the problem.\n",
        "\n",
        "There are two approaches:\n",
        "\n",
        "* **Approach 1:** mapping one categorial feature to one numerical feature. The values in each categorical feature are encoded into unique numbers of the new numerical feature. For example, ['VERY HOT','HOT', 'COOL', 'COLD', 'VERY COLD'] will be encoded into [0,1,2,3,4,5]. However, by using this method, we implicit assume that the value of 'VERY HOT' is smaller than 'HOT'... This is not generally true.\n",
        "\n",
        "* Approach 2: mapping mapping one categorial feature to multiple numerical features. Basically, a single variable with  n  observations and  d  distinct values, to  d  binary variables with  n  observations each. Each observation indicating the presence (1) or absence (0) of the  dth  binary variable. For example, ['house', 'car', 'tooth', 'car'] becomes\n",
        "\\begin{align}\n",
        "[\n",
        "[1,0,0,0],\n",
        "[0,1,0,0],\n",
        "[0,0,1,0],\n",
        "[0,0,0,1],\n",
        "]\n",
        "\\end{align}\n",
        "We call the second approach \"one-hot encoding\". By using this approach, we keep the same role for all values of categorical features."
      ]
    },
    {
      "cell_type": "markdown",
      "metadata": {
        "id": "FEsKjMt__9Ad"
      },
      "source": [
        "# **Question 8**\n",
        "Calculate the number of distinct categorical features value (at index 1,2,3). Then construct a new input data using one-hot encoding for these categorical features (don't throw away numerical features!)."
      ]
    },
    {
      "cell_type": "code",
      "metadata": {
        "id": "Pod99VHs1VZT"
      },
      "source": [
        "original_allData= allData # 48512"
      ],
      "execution_count": 104,
      "outputs": []
    },
    {
      "cell_type": "code",
      "metadata": {
        "id": "UZbWye8503hT"
      },
      "source": [
        "allData=allData.sample(withReplacement=False,fraction=0.5)"
      ],
      "execution_count": 113,
      "outputs": []
    },
    {
      "cell_type": "code",
      "metadata": {
        "colab": {
          "base_uri": "https://localhost:8080/"
        },
        "id": "GXIodNik1Tys",
        "outputId": "3d77511b-7de3-47e0-d55c-d365a679b576"
      },
      "source": [
        "allData.count()"
      ],
      "execution_count": 114,
      "outputs": [
        {
          "output_type": "execute_result",
          "data": {
            "text/plain": [
              "12300"
            ]
          },
          "metadata": {},
          "execution_count": 114
        }
      ]
    },
    {
      "cell_type": "code",
      "metadata": {
        "id": "a5AK5Jq_ACVf",
        "colab": {
          "base_uri": "https://localhost:8080/"
        },
        "outputId": "64c993be-f53f-4e23-ebd9-17ce8c4993af"
      },
      "source": [
        "f1 = raw_data.map(lambda x : x.split(\",\")[1]).distinct().collect()\n",
        "f2 = raw_data.map(lambda x : x.split(\",\")[2]).distinct().collect()\n",
        "f3 = raw_data.map(lambda x : x.split(\",\")[3]).distinct().collect()\n",
        "\n",
        "print(f\"feature 1 length is {len(f1)}\")\n",
        "print(f\"feature 2 length is {len(f2)}\")\n",
        "print(f\"feature 3 length is {len(f3)}\")\n",
        "\n",
        "\n",
        "# one hot encoding\n",
        "def getOnehotEncoding(d):\n",
        "    cols = d.split(\",\")\n",
        "    # label is the last column\n",
        "    l,vector = cols[-1], cols[0:-1] \n",
        "   \n",
        "    \n",
        "    # the binary features that are encoded from the first categorical feature\n",
        "    col1Feat, col2Feat, col3Feat = [0]*len(feat1), [0]*len(feat2), [0]*len(feat3)\n",
        "    col1Feat[feat1.index(vector[1])] = 1 # the binary features that are encoded from the second categorical feature\n",
        "    col2Feat[feat2.index(vector[2])] = 1\n",
        "    col3Feat[feat3.index(vector[3])] = 1  \n",
        "    vector = ([vector[0]] + col1Feat + col2Feat +  col3Feat + vector[4:]) #new feat with one hot encoding of col 1,2,3    \n",
        "    return (l, np.array(vector, dtype=np.float))\n",
        "allData_new = allData.map(getOnehotEncoding)\n",
        "\n"
      ],
      "execution_count": 115,
      "outputs": [
        {
          "output_type": "stream",
          "name": "stdout",
          "text": [
            "feature 1 length is 3\n",
            "feature 2 length is 70\n",
            "feature 3 length is 11\n"
          ]
        }
      ]
    },
    {
      "cell_type": "code",
      "metadata": {
        "id": "675XY2hY0XGT"
      },
      "source": [
        "#NORMALIZED DATA\n",
        "normData= normalizeData(allData_new).cache()\n",
        "normData= normData.map(lambda x:x[1]).cache()"
      ],
      "execution_count": 116,
      "outputs": []
    },
    {
      "cell_type": "markdown",
      "metadata": {
        "id": "nKOlIS6BADut"
      },
      "source": [
        "# **2.3.2. Building models**\n",
        "# **Question 9**\n",
        "Using the new data, cluster the connections with different values of $k\\in [80,90,100,110,120,130,140,150,160]$. Evaluate the results and choose the best value of  k  as previous questions."
      ]
    },
    {
      "cell_type": "code",
      "metadata": {
        "id": "FW6yVSB6AVMM",
        "colab": {
          "base_uri": "https://localhost:8080/"
        },
        "outputId": "2a6a29ec-0a96-4cb3-8e44-4628f76e4013"
      },
      "source": [
        "k_range = [80,90,100,110,120,130,140,150,160]\n",
        "scores = [clusteringScore(normalizedData, k) for k in k_range]\n",
        "for score in scores:\n",
        "  print(score)\n",
        "   "
      ],
      "execution_count": 119,
      "outputs": [
        {
          "output_type": "stream",
          "name": "stderr",
          "text": [
            "/content/spark-2.4.5-bin-hadoop2.7/python/pyspark/mllib/clustering.py:347: UserWarning: The param `runs` has no effect since Spark 2.0.0.\n",
            "  warnings.warn(\"The param `runs` has no effect since Spark 2.0.0.\")\n"
          ]
        },
        {
          "output_type": "stream",
          "name": "stdout",
          "text": [
            "73014.33924005128\n",
            "48799.7092517707\n",
            "47698.21843725081\n",
            "32283.111631559714\n",
            "66242.44053320755\n",
            "46490.90581970329\n",
            "44760.587858188395\n",
            "23135.997959336088\n",
            "22995.766061704413\n"
          ]
        }
      ]
    },
    {
      "cell_type": "code",
      "metadata": {
        "colab": {
          "base_uri": "https://localhost:8080/",
          "height": 296
        },
        "id": "eh6DUU1S2v41",
        "outputId": "50defd25-5ed0-438e-cd5a-4a62bec934b4"
      },
      "source": [
        "   \n",
        "# plot results\n",
        "plt.scatter(k_range, scores)\n",
        "plt.xlabel('k')\n",
        "plt.ylabel('clustering score')\n"
      ],
      "execution_count": 120,
      "outputs": [
        {
          "output_type": "execute_result",
          "data": {
            "text/plain": [
              "Text(0, 0.5, 'clustering score')"
            ]
          },
          "metadata": {},
          "execution_count": 120
        },
        {
          "output_type": "display_data",
          "data": {
            "image/png": "[encoded data removed]",
            "text/plain": [
              "<Figure size 432x288 with 1 Axes>"
            ]
          },
          "metadata": {
            "needs_background": "light"
          }
        }
      ]
    },
    {
      "cell_type": "markdown",
      "metadata": {
        "id": "8aohxU0oAVp7"
      },
      "source": [
        "We can see that the clustering scores increases when we increase the size of k, we see some odd score at k=120, if we look into k=110,150,160 clustering scores seems to decrease properly\n",
        "\n"
      ]
    },
    {
      "cell_type": "markdown",
      "metadata": {
        "id": "BKTxsr0jAXbz"
      },
      "source": [
        "# **2.4. Anomaly detection**\n",
        "When we have a new connection data (e.g., one that we never saw before), we simply find the closest cluster for it, and use this information as a proxy to indicate whether the data point is anomalous or not. A simple approach to decide wheter there is an anomaly or not, amounts to measuring the new data point’s distance to its nearest centroid. If this distance exceeds some thresholds, it is anomalous."
      ]
    },
    {
      "cell_type": "markdown",
      "metadata": {
        "id": "kbIY1FvNAiyn"
      },
      "source": [
        "# **Question 10**\n",
        "Build your model with the best value of $k$ in your opinion. Then, detect the anomalous connections in our data. Plot and discuss your result.\n",
        "\n",
        "HINT: The threshold has strong impact on the result. Be careful when choosing it! A simple way to choose the threshold's value is picking up a distance of a data point from among known data. For example, the 100th-farthest data point distance can be an option."
      ]
    },
    {
      "cell_type": "code",
      "metadata": {
        "id": "kCBvMiNUAyKG",
        "colab": {
          "base_uri": "https://localhost:8080/"
        },
        "outputId": "d5dab361-bb8a-41df-86c1-c285ca208559"
      },
      "source": [
        "bestValue_k= 110\n",
        "clusters = KMeans.train(normalizedData, bestValue_k, maxIterations=10, runs=10, initializationMode=\"random\")\n"
      ],
      "execution_count": 121,
      "outputs": [
        {
          "output_type": "stream",
          "name": "stderr",
          "text": [
            "/content/spark-2.4.5-bin-hadoop2.7/python/pyspark/mllib/clustering.py:347: UserWarning: The param `runs` has no effect since Spark 2.0.0.\n",
            "  warnings.warn(\"The param `runs` has no effect since Spark 2.0.0.\")\n"
          ]
        }
      ]
    },
    {
      "cell_type": "code",
      "metadata": {
        "id": "f7iLkSGS3j6v"
      },
      "source": [
        "nd=normalizedData.map(lambda x : (error(clusters, x), x)).takeOrdered(10000, lambda key : -key[0])\n"
      ],
      "execution_count": null,
      "outputs": []
    },
    {
      "cell_type": "code",
      "metadata": {
        "id": "mlywzkBO5HUr"
      },
      "source": [
        ""
      ],
      "execution_count": null,
      "outputs": []
    },
    {
      "cell_type": "code",
      "metadata": {
        "colab": {
          "base_uri": "https://localhost:8080/",
          "height": 298
        },
        "id": "fq0e8v7c6zZU",
        "outputId": "ae6cd351-b8b2-41da-8910-8dd3822acdf4"
      },
      "source": [
        "xx = [x[0] for x in nd]\n",
        "plt.figure()\n",
        "plt.plot(xx)\n",
        "plt.title(\"points with largest distance from cluster centers\")\n",
        "plt.ylabel(\"distance from center\")\n"
      ],
      "execution_count": 137,
      "outputs": [
        {
          "output_type": "execute_result",
          "data": {
            "text/plain": [
              "Text(0, 0.5, 'distance from center')"
            ]
          },
          "metadata": {},
          "execution_count": 137
        },
        {
          "output_type": "display_data",
          "data": {
            "image/png": "[encoded data removed]",
            "text/plain": [
              "<Figure size 432x288 with 1 Axes>"
            ]
          },
          "metadata": {
            "needs_background": "light"
          }
        }
      ]
    },
    {
      "cell_type": "code",
      "metadata": {
        "colab": {
          "base_uri": "https://localhost:8080/",
          "height": 298
        },
        "id": "FIzVbO723zRI",
        "outputId": "ec369295-17c0-4f18-cc49-fa4d6c3f1433"
      },
      "source": [
        "xx = [x[0] for x in nd]\n",
        "plt.figure()\n",
        "plt.plot(xx)\n",
        "plt.title(\"points with largest distance from cluster centers\")\n",
        "plt.ylabel(\"distance from center\")\n",
        "plt.ylim(0,50)"
      ],
      "execution_count": 132,
      "outputs": [
        {
          "output_type": "execute_result",
          "data": {
            "text/plain": [
              "(0.0, 50.0)"
            ]
          },
          "metadata": {},
          "execution_count": 132
        },
        {
          "output_type": "display_data",
          "data": {
            "image/png": "[encoded data removed]",
            "text/plain": [
              "<Figure size 432x288 with 1 Axes>"
            ]
          },
          "metadata": {
            "needs_background": "light"
          }
        }
      ]
    },
    {
      "cell_type": "code",
      "metadata": {
        "colab": {
          "base_uri": "https://localhost:8080/",
          "height": 300
        },
        "id": "DtTnLEA15ToT",
        "outputId": "211796b7-7d19-46ef-aae1-a4dcfb01f72f"
      },
      "source": [
        "plt.plot(xx[:1000])\n",
        "plt.ylabel(\"distance from center\")\n",
        "plt.xlabel(\"i-th most distant point\")\n",
        "plt.ylim(0,50)\n"
      ],
      "execution_count": 136,
      "outputs": [
        {
          "output_type": "execute_result",
          "data": {
            "text/plain": [
              "(0.0, 50.0)"
            ]
          },
          "metadata": {},
          "execution_count": 136
        },
        {
          "output_type": "display_data",
          "data": {
            "image/png": "[encoded data removed]",
            "text/plain": [
              "<Figure size 432x288 with 1 Axes>"
            ]
          },
          "metadata": {
            "needs_background": "light"
          }
        }
      ]
    },
    {
      "cell_type": "code",
      "metadata": {
        "id": "7q-ihLkl6Dkl"
      },
      "source": [
        "# upto 1000 ost point span a distrance "
      ],
      "execution_count": null,
      "outputs": []
    },
    {
      "cell_type": "code",
      "metadata": {
        "colab": {
          "base_uri": "https://localhost:8080/"
        },
        "id": "FKgLq3pj8VE2",
        "outputId": "adee604b-cc9d-40cf-a3dd-e8856b138dcd"
      },
      "source": [
        "t_count"
      ],
      "execution_count": 154,
      "outputs": [
        {
          "output_type": "execute_result",
          "data": {
            "text/plain": [
              "[464, 100, 38, 21, 18, 11]"
            ]
          },
          "metadata": {},
          "execution_count": 154
        }
      ]
    },
    {
      "cell_type": "code",
      "metadata": {
        "colab": {
          "base_uri": "https://localhost:8080/",
          "height": 499
        },
        "id": "vsfm5TJa7EvU",
        "outputId": "b5bac721-44ef-4018-e559-ded95b26eb59"
      },
      "source": [
        "thresholds = [10,50,200,500,600,1000]\n",
        "t_count = [len([t for t in xx if t > th]) for th in thresholds]\n",
        "plt.figure(figsize=(20,8))\n",
        "plt.scatter(thresholds, t_count, c=\"r\", s=100)\n",
        "plt.plot(thresholds, t_count)\n",
        "plt.yticks(t_count)\n",
        "plt.xticks(thresholds)\n",
        "plt.show()\n",
        "for i in range(len(thresholds)):\n",
        "    print(f\"Threshold: {thresholds[i]} Anomalous connections: {t_count[i]}\")"
      ],
      "execution_count": 155,
      "outputs": [
        {
          "output_type": "display_data",
          "data": {
            "image/png": "[encoded data removed]",
            "text/plain": [
              "<Figure size 1440x576 with 1 Axes>"
            ]
          },
          "metadata": {
            "needs_background": "light"
          }
        },
        {
          "output_type": "stream",
          "name": "stdout",
          "text": [
            "Threshold: 10 Anomalous connections: 464\n",
            "Threshold: 50 Anomalous connections: 100\n",
            "Threshold: 200 Anomalous connections: 38\n",
            "Threshold: 500 Anomalous connections: 21\n",
            "Threshold: 600 Anomalous connections: 18\n",
            "Threshold: 1000 Anomalous connections: 11\n"
          ]
        }
      ]
    },
    {
      "cell_type": "markdown",
      "metadata": {
        "id": "GcFPD2vQAze1"
      },
      "source": [
        "When the threshold is 10, we can see the anomalous connection to be 464, and when the threshold is 1000, we can see the anomalous connection around 11. We selected the threshold based on the third graph when the distance decreases after ~100th point we can see the distance from the center decreasing. Since we are sampling only ~12k data, the anomalous numbers will differ when we include more samples. "
      ]
    }
  ]
}